{
 "cells": [
  {
   "cell_type": "markdown",
   "metadata": {
    "collapsed": true,
    "pycharm": {
     "name": "#%% md\n"
    }
   },
   "source": [
    "# Demo\n",
    "\n",
    "Injection of first order logic rules into a neural network for iris classification task.\n",
    "\n",
    "Some imports."
   ]
  },
  {
   "cell_type": "code",
   "execution_count": 59,
   "outputs": [],
   "source": [
    "from tensorflow.keras import Input, Model\n",
    "from tensorflow.keras.optimizers import Adam\n",
    "from tensorflow.python.framework.random_seed import set_random_seed\n",
    "from psyki import Injector\n",
    "from psyki.fol import Parser\n",
    "from sklearn.datasets import load_iris\n",
    "from sklearn.model_selection import train_test_split\n",
    "from sklearn.preprocessing import OneHotEncoder\n",
    "from test import get_mlp\n",
    "from test import get_rules\n",
    "import tensorflow as tf"
   ],
   "metadata": {
    "collapsed": false,
    "pycharm": {
     "name": "#%%\n"
    }
   }
  },
  {
   "cell_type": "markdown",
   "source": [
    "Loading iris dataset and separation into train and test set."
   ],
   "metadata": {
    "collapsed": false
   }
  },
  {
   "cell_type": "code",
   "execution_count": 60,
   "outputs": [
    {
     "data": {
      "text/plain": "     sepal length (cm)  sepal width (cm)  petal length (cm)  petal width (cm)  \\\n3                  4.6               3.1                1.5               0.2   \n149                5.9               3.0                5.1               1.8   \n98                 5.1               2.5                3.0               1.1   \n6                  4.6               3.4                1.4               0.3   \n68                 6.2               2.2                4.5               1.5   \n..                 ...               ...                ...               ...   \n9                  4.9               3.1                1.5               0.1   \n103                6.3               2.9                5.6               1.8   \n67                 5.8               2.7                4.1               1.0   \n117                7.7               3.8                6.7               2.2   \n47                 4.6               3.2                1.4               0.2   \n\n     target  \n3         0  \n149       2  \n98        1  \n6         0  \n68        1  \n..      ...  \n9         0  \n103       2  \n67        1  \n117       2  \n47        0  \n\n[75 rows x 5 columns]",
      "text/html": "<div>\n<style scoped>\n    .dataframe tbody tr th:only-of-type {\n        vertical-align: middle;\n    }\n\n    .dataframe tbody tr th {\n        vertical-align: top;\n    }\n\n    .dataframe thead th {\n        text-align: right;\n    }\n</style>\n<table border=\"1\" class=\"dataframe\">\n  <thead>\n    <tr style=\"text-align: right;\">\n      <th></th>\n      <th>sepal length (cm)</th>\n      <th>sepal width (cm)</th>\n      <th>petal length (cm)</th>\n      <th>petal width (cm)</th>\n      <th>target</th>\n    </tr>\n  </thead>\n  <tbody>\n    <tr>\n      <th>3</th>\n      <td>4.6</td>\n      <td>3.1</td>\n      <td>1.5</td>\n      <td>0.2</td>\n      <td>0</td>\n    </tr>\n    <tr>\n      <th>149</th>\n      <td>5.9</td>\n      <td>3.0</td>\n      <td>5.1</td>\n      <td>1.8</td>\n      <td>2</td>\n    </tr>\n    <tr>\n      <th>98</th>\n      <td>5.1</td>\n      <td>2.5</td>\n      <td>3.0</td>\n      <td>1.1</td>\n      <td>1</td>\n    </tr>\n    <tr>\n      <th>6</th>\n      <td>4.6</td>\n      <td>3.4</td>\n      <td>1.4</td>\n      <td>0.3</td>\n      <td>0</td>\n    </tr>\n    <tr>\n      <th>68</th>\n      <td>6.2</td>\n      <td>2.2</td>\n      <td>4.5</td>\n      <td>1.5</td>\n      <td>1</td>\n    </tr>\n    <tr>\n      <th>...</th>\n      <td>...</td>\n      <td>...</td>\n      <td>...</td>\n      <td>...</td>\n      <td>...</td>\n    </tr>\n    <tr>\n      <th>9</th>\n      <td>4.9</td>\n      <td>3.1</td>\n      <td>1.5</td>\n      <td>0.1</td>\n      <td>0</td>\n    </tr>\n    <tr>\n      <th>103</th>\n      <td>6.3</td>\n      <td>2.9</td>\n      <td>5.6</td>\n      <td>1.8</td>\n      <td>2</td>\n    </tr>\n    <tr>\n      <th>67</th>\n      <td>5.8</td>\n      <td>2.7</td>\n      <td>4.1</td>\n      <td>1.0</td>\n      <td>1</td>\n    </tr>\n    <tr>\n      <th>117</th>\n      <td>7.7</td>\n      <td>3.8</td>\n      <td>6.7</td>\n      <td>2.2</td>\n      <td>2</td>\n    </tr>\n    <tr>\n      <th>47</th>\n      <td>4.6</td>\n      <td>3.2</td>\n      <td>1.4</td>\n      <td>0.2</td>\n      <td>0</td>\n    </tr>\n  </tbody>\n</table>\n<p>75 rows × 5 columns</p>\n</div>"
     },
     "execution_count": 60,
     "metadata": {},
     "output_type": "execute_result"
    }
   ],
   "source": [
    "x, y = load_iris(return_X_y=True, as_frame=True)\n",
    "encoder = OneHotEncoder(sparse=False)\n",
    "encoder.fit_transform([y])\n",
    "dataset = x.join(y)\n",
    "\n",
    "train, test = train_test_split(dataset, test_size=0.5, random_state=0)\n",
    "train"
   ],
   "metadata": {
    "collapsed": false,
    "pycharm": {
     "name": "#%%\n"
    }
   }
  },
  {
   "cell_type": "markdown",
   "source": [
    "Import FOL rules:\n",
    "\n",
    "- PL <= 2.28 <- X = setosa\n",
    "- PL > 2.28 ^ PW > 1.64 <- X = virginica\n",
    "- PL > 2.28 ^ PW <= 1.64 <- X = versicolor"
   ],
   "metadata": {
    "collapsed": false
   }
  },
  {
   "cell_type": "code",
   "execution_count": 61,
   "outputs": [],
   "source": [
    "features_mapping = {\n",
    "    'SL': 0,\n",
    "    'SW': 1,\n",
    "    'PL': 2,\n",
    "    'PW': 3,\n",
    "}\n",
    "class_mapping = {\n",
    "    'setosa': tf.constant([1, 0, 0], dtype=tf.float32),\n",
    "    'virginica': tf.constant([0, 1, 0], dtype=tf.float32),\n",
    "    'versicolor': tf.constant([0, 0, 1], dtype=tf.float32)\n",
    "}\n",
    "\n",
    "parser = Parser.default_parser()\n",
    "iris_rules = [parser.get_function(rule, features_mapping, class_mapping)\n",
    "               for _, rule in get_rules('iris').items()]"
   ],
   "metadata": {
    "collapsed": false,
    "pycharm": {
     "name": "#%%\n"
    }
   }
  },
  {
   "cell_type": "markdown",
   "source": [
    "Injection of fuzzy logic function derived from FOL rules into a neural network."
   ],
   "metadata": {
    "collapsed": false
   }
  },
  {
   "cell_type": "code",
   "execution_count": 62,
   "outputs": [
    {
     "name": "stdout",
     "output_type": "stream",
     "text": [
      "Model: \"model_17\"\n",
      "__________________________________________________________________________________________________\n",
      "Layer (type)                    Output Shape         Param #     Connected to                     \n",
      "==================================================================================================\n",
      "Input (InputLayer)              [(None, 4)]          0                                            \n",
      "__________________________________________________________________________________________________\n",
      "L_1 (Dense)                     (None, 32)           160         Input[0][0]                      \n",
      "__________________________________________________________________________________________________\n",
      "L_2 (Dense)                     (None, 32)           1056        L_1[0][0]                        \n",
      "__________________________________________________________________________________________________\n",
      "L_3 (Dense)                     (None, 3)            99          L_2[0][0]                        \n",
      "__________________________________________________________________________________________________\n",
      "Concatenate (Concatenate)       (None, 7)            0           Input[0][0]                      \n",
      "                                                                 L_3[0][0]                        \n",
      "__________________________________________________________________________________________________\n",
      "Knowledge (Lambda)              (None, 3)            0           Concatenate[0][0]                \n",
      "==================================================================================================\n",
      "Total params: 1,315\n",
      "Trainable params: 1,315\n",
      "Non-trainable params: 0\n",
      "__________________________________________________________________________________________________\n"
     ]
    }
   ],
   "source": [
    "set_random_seed(0)\n",
    "input_features = Input((4,), name='Input')\n",
    "network = get_mlp(input=input_features, output=3, layers=3, neurons=32, activation_function='relu',\n",
    "                  last_activation_function='softmax')\n",
    "injector = Injector(network, input_features, output_shape=3)\n",
    "injector.inject(iris_rules)\n",
    "injector.predictor.compile(optimizer=Adam(), loss='sparse_categorical_crossentropy', metrics=['accuracy'])\n",
    "injector.predictor.summary()"
   ],
   "metadata": {
    "collapsed": false,
    "pycharm": {
     "name": "#%%\n"
    }
   }
  },
  {
   "cell_type": "markdown",
   "source": [
    "Training."
   ],
   "metadata": {
    "collapsed": false
   }
  },
  {
   "cell_type": "code",
   "execution_count": 63,
   "outputs": [
    {
     "name": "stdout",
     "output_type": "stream",
     "text": [
      "Epoch 1/30\n",
      "19/19 [==============================] - 1s 1ms/step - loss: 1.0760 - accuracy: 0.5333 \n",
      "Epoch 2/30\n",
      "19/19 [==============================] - 0s 1ms/step - loss: 0.8121 - accuracy: 0.5867\n",
      "Epoch 3/30\n",
      "19/19 [==============================] - 0s 788us/step - loss: 0.7280 - accuracy: 0.5867\n",
      "Epoch 4/30\n",
      "19/19 [==============================] - 0s 963us/step - loss: 0.6740 - accuracy: 0.6133\n",
      "Epoch 5/30\n",
      "19/19 [==============================] - 0s 969us/step - loss: 0.6266 - accuracy: 0.5867\n",
      "Epoch 6/30\n",
      "19/19 [==============================] - 0s 1ms/step - loss: 0.5803 - accuracy: 0.6267\n",
      "Epoch 7/30\n",
      "19/19 [==============================] - 0s 1ms/step - loss: 0.5524 - accuracy: 0.6400\n",
      "Epoch 8/30\n",
      "19/19 [==============================] - 0s 1ms/step - loss: 0.5276 - accuracy: 0.6400\n",
      "Epoch 9/30\n",
      "19/19 [==============================] - 0s 1ms/step - loss: 0.5126 - accuracy: 0.6267\n",
      "Epoch 10/30\n",
      "19/19 [==============================] - 0s 1ms/step - loss: 0.4988 - accuracy: 0.6267\n",
      "Epoch 11/30\n",
      "19/19 [==============================] - 0s 1ms/step - loss: 0.4855 - accuracy: 0.6933\n",
      "Epoch 12/30\n",
      "19/19 [==============================] - 0s 1ms/step - loss: 0.4728 - accuracy: 0.6933\n",
      "Epoch 13/30\n",
      "19/19 [==============================] - 0s 1ms/step - loss: 0.4639 - accuracy: 0.6533\n",
      "Epoch 14/30\n",
      "19/19 [==============================] - 0s 1ms/step - loss: 0.4543 - accuracy: 0.6933\n",
      "Epoch 15/30\n",
      "19/19 [==============================] - 0s 1ms/step - loss: 0.4451 - accuracy: 0.6800\n",
      "Epoch 16/30\n",
      "19/19 [==============================] - 0s 1ms/step - loss: 0.4386 - accuracy: 0.7333\n",
      "Epoch 17/30\n",
      "19/19 [==============================] - 0s 1ms/step - loss: 0.4316 - accuracy: 0.7200\n",
      "Epoch 18/30\n",
      "19/19 [==============================] - 0s 1ms/step - loss: 0.4258 - accuracy: 0.7200\n",
      "Epoch 19/30\n",
      "19/19 [==============================] - 0s 1ms/step - loss: 0.4265 - accuracy: 0.7333\n",
      "Epoch 20/30\n",
      "19/19 [==============================] - 0s 1ms/step - loss: 0.4190 - accuracy: 0.7333\n",
      "Epoch 21/30\n",
      "19/19 [==============================] - 0s 1ms/step - loss: 0.4125 - accuracy: 0.7333\n",
      "Epoch 22/30\n",
      "19/19 [==============================] - 0s 1ms/step - loss: 0.4051 - accuracy: 0.7333\n",
      "Epoch 23/30\n",
      "19/19 [==============================] - 0s 1ms/step - loss: 0.4061 - accuracy: 0.6800\n",
      "Epoch 24/30\n",
      "19/19 [==============================] - 0s 1ms/step - loss: 0.4107 - accuracy: 0.7467\n",
      "Epoch 25/30\n",
      "19/19 [==============================] - 0s 1ms/step - loss: 0.4087 - accuracy: 0.6667\n",
      "Epoch 26/30\n",
      "19/19 [==============================] - 0s 1ms/step - loss: 0.3917 - accuracy: 0.7467\n",
      "Epoch 27/30\n",
      "19/19 [==============================] - 0s 1ms/step - loss: 0.3952 - accuracy: 0.7333\n",
      "Epoch 28/30\n",
      "19/19 [==============================] - 0s 1ms/step - loss: 0.3939 - accuracy: 0.7333\n",
      "Epoch 29/30\n",
      "19/19 [==============================] - 0s 1ms/step - loss: 0.3915 - accuracy: 0.7467\n",
      "Epoch 30/30\n",
      "19/19 [==============================] - 0s 1ms/step - loss: 0.3857 - accuracy: 0.7067\n"
     ]
    },
    {
     "data": {
      "text/plain": "<tensorflow.python.keras.callbacks.History at 0x14fb8d400>"
     },
     "execution_count": 63,
     "metadata": {},
     "output_type": "execute_result"
    }
   ],
   "source": [
    "train_x, train_y = train.iloc[:,:-1], train.iloc[:,-1]\n",
    "injector.predictor.fit(train_x, train_y, verbose=1, batch_size=4, epochs=30)"
   ],
   "metadata": {
    "collapsed": false,
    "pycharm": {
     "name": "#%%\n"
    }
   }
  },
  {
   "cell_type": "markdown",
   "source": [
    "Removing the injected rules from the network."
   ],
   "metadata": {
    "collapsed": false
   }
  },
  {
   "cell_type": "code",
   "execution_count": 64,
   "outputs": [
    {
     "name": "stdout",
     "output_type": "stream",
     "text": [
      "Model: \"model_18\"\n",
      "_________________________________________________________________\n",
      "Layer (type)                 Output Shape              Param #   \n",
      "=================================================================\n",
      "Input (InputLayer)           [(None, 4)]               0         \n",
      "_________________________________________________________________\n",
      "L_1 (Dense)                  (None, 32)                160       \n",
      "_________________________________________________________________\n",
      "L_2 (Dense)                  (None, 32)                1056      \n",
      "_________________________________________________________________\n",
      "L_3 (Dense)                  (None, 3)                 99        \n",
      "=================================================================\n",
      "Total params: 1,315\n",
      "Trainable params: 1,315\n",
      "Non-trainable params: 0\n",
      "_________________________________________________________________\n"
     ]
    }
   ],
   "source": [
    "new_network = Model(injector.predictor.input, injector.predictor.layers[-3].output)\n",
    "new_network.compile(optimizer=Adam(), loss='sparse_categorical_crossentropy', metrics=['accuracy'])\n",
    "new_network.summary()"
   ],
   "metadata": {
    "collapsed": false,
    "pycharm": {
     "name": "#%%\n"
    }
   }
  },
  {
   "cell_type": "markdown",
   "source": [
    "Evaluation."
   ],
   "metadata": {
    "collapsed": false
   }
  },
  {
   "cell_type": "code",
   "execution_count": 65,
   "outputs": [
    {
     "name": "stdout",
     "output_type": "stream",
     "text": [
      "3/3 [==============================] - 0s 497us/step - loss: 0.1601 - accuracy: 0.9867\n"
     ]
    },
    {
     "data": {
      "text/plain": "[0.16007451713085175, 0.9866666793823242]"
     },
     "execution_count": 65,
     "metadata": {},
     "output_type": "execute_result"
    }
   ],
   "source": [
    "test_x, test_y = test.iloc[:,:-1], test.iloc[:,-1]\n",
    "new_network.evaluate(test_x, test_y)"
   ],
   "metadata": {
    "collapsed": false,
    "pycharm": {
     "name": "#%%\n"
    }
   }
  },
  {
   "cell_type": "markdown",
   "source": [
    "### Demo ends here\n",
    "If you are reading it from `https://anonymous.4open.science/` there is a chance that the demo is duplicated.\n",
    "Just ignore the following text."
   ],
   "metadata": {
    "collapsed": false,
    "pycharm": {
     "name": "#%% md\n"
    }
   }
  }
 ],
 "metadata": {
  "kernelspec": {
   "display_name": "Python 3",
   "language": "python",
   "name": "python3"
  },
  "language_info": {
   "codemirror_mode": {
    "name": "ipython",
    "version": 2
   },
   "file_extension": ".py",
   "mimetype": "text/x-python",
   "name": "python",
   "nbconvert_exporter": "python",
   "pygments_lexer": "ipython2",
   "version": "2.7.6"
  }
 },
 "nbformat": 4,
 "nbformat_minor": 0
}